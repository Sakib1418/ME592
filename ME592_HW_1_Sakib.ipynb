{
  "nbformat": 4,
  "nbformat_minor": 0,
  "metadata": {
    "colab": {
      "name": "ME592_HW_1_Sakib.ipynb",
      "private_outputs": true,
      "provenance": [],
      "collapsed_sections": []
    },
    "kernelspec": {
      "name": "python3",
      "display_name": "Python 3"
    },
    "language_info": {
      "name": "python"
    }
  },
  "cells": [
    {
      "cell_type": "code",
      "execution_count": null,
      "metadata": {
        "id": "Dks_mEtlfjff"
      },
      "outputs": [],
      "source": [
        "#Answer to the question no 2.1\n",
        "\n",
        "#answer 1\n",
        "\n",
        "import numpy as np\n",
        "import matplotlib.pyplot as plt\n",
        "from PIL import Image\n",
        "\n",
        "fname = 'sample_data/sudoku-original.png'\n",
        "image = Image.open(fname).convert(\"L\")\n",
        "arr = np.asarray(image)\n",
        "plt.imshow(arr, cmap='gray', vmin=0, vmax=255)\n",
        "plt.show()"
      ]
    },
    {
      "cell_type": "code",
      "source": [
        "#answer 2\n",
        "\n",
        "#important library to show the image \n",
        "import matplotlib.image as mpimg\n",
        "import matplotlib.pyplot as plt\n",
        "#importing numpy to work with large set of data.\n",
        "import numpy as np\n",
        "\n",
        "\n",
        "img=mpimg.imread('sample_data/sudoku-original.png')\n",
        "#image sclicing into 2D. \n",
        "x=img[:,:,0]\n",
        "\n",
        "\n",
        "\n",
        "plt.title(\"HIstogramm for given Image'  \")\n",
        "plt.xlabel(\"Value\")\n",
        "plt.ylabel(\"pixels Frequency\")\n",
        "#hist function is used to plot the histogram of an image.\n",
        "plt.hist(x)"
      ],
      "metadata": {
        "id": "W0t8iyirhn6K"
      },
      "execution_count": null,
      "outputs": []
    },
    {
      "cell_type": "code",
      "source": [
        "# import the necessary packages\n",
        "import numpy as np\n",
        "import cv2\n",
        "def order_points(pts):\n",
        "\t# initialzie a list of coordinates that will be ordered\n",
        "\t# such that the first entry in the list is the top-left,\n",
        "\t# the second entry is the top-right, the third is the\n",
        "\t# bottom-right, and the fourth is the bottom-left\n",
        "\trect = np.zeros((4, 2), dtype = \"float32\")\n",
        "\t# the top-left point will have the smallest sum, whereas\n",
        "\t# the bottom-right point will have the largest sum\n",
        "\ts = pts.sum(axis = 1)\n",
        "\trect[0] = pts[np.argmin(s)]\n",
        "\trect[2] = pts[np.argmax(s)]\n",
        "\t# now, compute the difference between the points, the\n",
        "\t# top-right point will have the smallest difference,\n",
        "\t# whereas the bottom-left will have the largest difference\n",
        "\tdiff = np.diff(pts, axis = 1)\n",
        "\trect[1] = pts[np.argmin(diff)]\n",
        "\trect[3] = pts[np.argmax(diff)]\n",
        "\t# return the ordered coordinates\n",
        "\treturn rect"
      ],
      "metadata": {
        "id": "TFW_WWzEojXz"
      },
      "execution_count": null,
      "outputs": []
    },
    {
      "cell_type": "code",
      "source": [
        "def four_point_transform(image, pts):\n",
        "\t# obtain a consistent order of the points and unpack them\n",
        "\t# individually\n",
        "\trect = order_points(pts)\n",
        "\t(tl, tr, br, bl) = rect\n",
        "\t# compute the width of the new image, which will be the\n",
        "\t# maximum distance between bottom-right and bottom-left\n",
        "\t# x-coordiates or the top-right and top-left x-coordinates\n",
        "\twidthA = np.sqrt(((br[0] - bl[0]) ** 2) + ((br[1] - bl[1]) ** 2))\n",
        "\twidthB = np.sqrt(((tr[0] - tl[0]) ** 2) + ((tr[1] - tl[1]) ** 2))\n",
        "\tmaxWidth = max(int(widthA), int(widthB))\n",
        "\t# compute the height of the new image, which will be the\n",
        "\t# maximum distance between the top-right and bottom-right\n",
        "\t# y-coordinates or the top-left and bottom-left y-coordinates\n",
        "\theightA = np.sqrt(((tr[0] - br[0]) ** 2) + ((tr[1] - br[1]) ** 2))\n",
        "\theightB = np.sqrt(((tl[0] - bl[0]) ** 2) + ((tl[1] - bl[1]) ** 2))\n",
        "\tmaxHeight = max(int(heightA), int(heightB))\n",
        "\t# now that we have the dimensions of the new image, construct\n",
        "\t# the set of destination points to obtain a \"birds eye view\",\n",
        "\t# (i.e. top-down view) of the image, again specifying points\n",
        "\t# in the top-left, top-right, bottom-right, and bottom-left\n",
        "\t# order\n",
        "\tdst = np.array([\n",
        "\t\t[0, 0],\n",
        "\t\t[maxWidth - 1, 0],\n",
        "\t\t[maxWidth - 1, maxHeight - 1],\n",
        "\t\t[0, maxHeight - 1]], dtype = \"float32\")\n",
        "\t# compute the perspective transform matrix and then apply it\n",
        "\tM = cv2.getPerspectiveTransform(rect, dst)\n",
        "\twarped = cv2.warpPerspective(image, M, (maxWidth, maxHeight))\n",
        "\t# return the warped image\n",
        "\treturn warped"
      ],
      "metadata": {
        "id": "KDRBhG-frsTJ"
      },
      "execution_count": null,
      "outputs": []
    },
    {
      "cell_type": "code",
      "source": [
        "#question 3 \n",
        "\n",
        "\n",
        "import numpy as np\n",
        "import argparse\n",
        "import cv2\n",
        "from google.colab.patches import cv2_imshow\n",
        "# construct the argument parse and parse the arguments\n",
        "\n",
        "# load the image and grab the source coordinates (i.e. the list of\n",
        "# of (x, y) points)\n",
        "# NOTE: using the 'eval' function is bad form, but for this example\n",
        "# let's just roll with it -- in future posts I'll show you how to\n",
        "# automatically determine the coordinates without pre-supplying them\n",
        "image = cv2.imread('sample_data/sudoku-original.png')\n",
        "pts = np.array(eval(\"[(54,62),(370,53),(24,393),(390,390)]\"), dtype = \"float32\")\n",
        "# apply the four point tranform to obtain a \"birds eye view\" of\n",
        "# the image\n",
        "warped = four_point_transform(image, pts)\n",
        "# show the original and warped images\n",
        "print(\"\\noriginal image is- \\n\")\n",
        "cv2_imshow(image)\n",
        "print(\"\\ntransformed image is- \\n\")\n",
        "cv2_imshow(warped)\n",
        "cv2.waitKey(0)"
      ],
      "metadata": {
        "id": "c-y_wLhurv0D"
      },
      "execution_count": null,
      "outputs": []
    },
    {
      "cell_type": "code",
      "source": [
        "import pandas as pd \n",
        "\n",
        "df = pd.read_csv('sample_data/energydata_complete.csv')"
      ],
      "metadata": {
        "id": "9spAj-fHwce4"
      },
      "execution_count": null,
      "outputs": []
    },
    {
      "cell_type": "code",
      "source": [
        "df.shape"
      ],
      "metadata": {
        "id": "mOyp9sB0xACR"
      },
      "execution_count": null,
      "outputs": []
    },
    {
      "cell_type": "code",
      "source": [
        "#answer to the question no 2.2\n",
        "\n",
        "#question 1\n",
        "\n",
        "plt.figure(figsize=(40,10))\n",
        "plt.xlabel('time')\n",
        "plt.ylabel('energy consumption (Watt)')\n",
        "plt.plot(df['Energy Consumption'],'-', linewidth = .1)"
      ],
      "metadata": {
        "id": "6hV0Nwd9xiOp"
      },
      "execution_count": null,
      "outputs": []
    },
    {
      "cell_type": "code",
      "source": [
        "\n",
        "\n",
        "# 1 week = 7 days = 7*86400 = 604800 seconds = 10080 minutes \n",
        "# data taken every 10 minutes, so first 1008 datapoints are needed for first one week\n",
        "plt.figure(figsize = (40,10))\n",
        "\n",
        "plt.plot(df['Energy Consumption'][0:1008], '-', linewidth = .5)\n",
        "plt.xticks(np.arange(0,1008+24*6, 24*6))\n"
      ],
      "metadata": {
        "id": "9W2on4gHxlch"
      },
      "execution_count": null,
      "outputs": []
    },
    {
      "cell_type": "code",
      "source": [
        "#question 2 \n",
        "\n",
        "df_week = df[0:1009] \n",
        "week_dict = {}\n",
        "week_num = 1\n",
        "for j in range(0,1008,144):\n",
        "  day_dict = {}\n",
        "  hour_num = 1\n",
        "  for i in range(j,j+144,6):\n",
        "    day_dict[hour_num] = sum(df_week[i:i+7]['Energy Consumption'])\n",
        "    hour_num += 1\n",
        "  key = 'day_num_'+ str(week_num)\n",
        "  week_dict[key] = day_dict\n",
        "  week_num += 1\n",
        "print(week_dict)"
      ],
      "metadata": {
        "id": "rilPT3on8GhD"
      },
      "execution_count": null,
      "outputs": []
    },
    {
      "cell_type": "code",
      "source": [
        "import pandas as pd \n",
        "week_df = pd.DataFrame(week_dict)\n",
        "week_df"
      ],
      "metadata": {
        "id": "ZFogixbAKik_"
      },
      "execution_count": null,
      "outputs": []
    },
    {
      "cell_type": "code",
      "source": [
        "import numpy as np \n",
        "from pandas import DataFrame\n",
        "import seaborn as sns\n",
        "%matplotlib inline\n",
        "\n",
        "fig, ax = plt.subplots(figsize=(10,10))     \n",
        "sns.heatmap(week_df, annot=False)"
      ],
      "metadata": {
        "id": "OKAT_UISLtED"
      },
      "execution_count": null,
      "outputs": []
    },
    {
      "cell_type": "code",
      "source": [
        "minutes_elapsed = []\n",
        "for i in range(len(df_week)):\n",
        "  a = float(df_week['date'][i].split(' ')[1].split(':')[0])*60 + float(df_week['date'][i].split(' ')[1].split(':')[1])\n",
        "  minutes_elapsed.append(a)"
      ],
      "metadata": {
        "id": "z5bo-Ou2OSbU"
      },
      "execution_count": null,
      "outputs": []
    },
    {
      "cell_type": "code",
      "source": [
        "df_week['minutes_elapsed'] = minutes_elapsed\n",
        "df_week"
      ],
      "metadata": {
        "id": "aQPEdpdtPwqp"
      },
      "execution_count": null,
      "outputs": []
    },
    {
      "cell_type": "code",
      "source": [
        "plt.figure(figsize = (40,10))\n",
        "plt.plot(df_week['minutes_elapsed'],df_week['Energy Consumption'], '-')"
      ],
      "metadata": {
        "id": "L28ngDTRQkwf"
      },
      "execution_count": null,
      "outputs": []
    },
    {
      "cell_type": "code",
      "source": [
        "#question 5\n",
        "\n",
        "plt.figure(figsize = (40,10))\n",
        "plt.plot(df['Energy Consumption'][0:100],df['Press_mm_hg'][0:100], linewidth = .75 )"
      ],
      "metadata": {
        "id": "Wju0zadQQ-RF"
      },
      "execution_count": null,
      "outputs": []
    },
    {
      "cell_type": "code",
      "source": [
        "#quesion 6\n",
        "\n",
        "X = df_week['Energy Consumption']\n",
        "pressure = df_week['Press_mm_hg']\n",
        "nsm = df_week['minutes_elapsed']\n",
        "\n",
        "fig, ax = plt.subplots(1, 2, figsize=(9, 7), sharex=True, sharey=True)\n",
        "\n",
        "\n",
        "\n",
        "z = np.polyfit(X, nsm, 1)\n",
        "\n",
        "p = np.poly1d(z)\n",
        "\n",
        "ax[0].plot(X,p(X),\"r-\")\n",
        "\n",
        "ax[0].scatter(X, nsm, linewidth = .2)\n",
        "\n",
        "ax[0].set_title('nsm', fontsize=14)\n",
        "\n",
        "\n",
        "z = np.polyfit(X, pressure, 1)\n",
        "\n",
        "p = np.poly1d(z)\n",
        "ax[1].scatter(X, pressure, linewidth = .2)\n",
        "ax[1].plot(X,p(X),\"r--\")\n",
        "ax[1].set_title('pressure', fontsize=14)"
      ],
      "metadata": {
        "id": "bxkAgVPyRckQ"
      },
      "execution_count": null,
      "outputs": []
    },
    {
      "cell_type": "code",
      "source": [
        "apliance_list = np.unique(np.array(df['Appliances'].values))"
      ],
      "metadata": {
        "id": "iJ1-Eh5Vm5R-"
      },
      "execution_count": null,
      "outputs": []
    },
    {
      "cell_type": "code",
      "source": [
        "#question 3 \n",
        "\n",
        "\n",
        "ap_dict = {}\n",
        "aplist = []\n",
        "for i in range(len(apliance_list)):\n",
        "  a = df[df['Appliances'] == apliance_list[i]]['Energy Consumption'].sum()\n",
        "  ap_dict[apliance_list[i]] = a\n",
        "  aplist.append(a)"
      ],
      "metadata": {
        "id": "pKDLqpFwpO6B"
      },
      "execution_count": null,
      "outputs": []
    },
    {
      "cell_type": "code",
      "source": [
        "plt.hist(ap_dict.values(), bins = range(0,2000,100) )"
      ],
      "metadata": {
        "id": "WmpE6IGbsN4c"
      },
      "execution_count": null,
      "outputs": []
    },
    {
      "cell_type": "code",
      "source": [
        "ap_dict"
      ],
      "metadata": {
        "id": "de-TkV_XtHrc"
      },
      "execution_count": null,
      "outputs": []
    },
    {
      "cell_type": "code",
      "source": [
        ""
      ],
      "metadata": {
        "id": "KIl4vFN3tC6d"
      },
      "execution_count": null,
      "outputs": []
    },
    {
      "cell_type": "markdown",
      "source": [
        "ENergy consumption does not depend on NSM or pressure "
      ],
      "metadata": {
        "id": "g1-9HGL2fBGu"
      }
    },
    {
      "cell_type": "code",
      "source": [
        "df_airfoil = pd.read_csv('sample_data/airfoil_self_noise.dat', sep = '\\t', header= None)"
      ],
      "metadata": {
        "id": "LMTnt3sYXVSe"
      },
      "execution_count": null,
      "outputs": []
    },
    {
      "cell_type": "code",
      "source": [
        "df_airfoil"
      ],
      "metadata": {
        "id": "IxMRdzNtYWuo"
      },
      "execution_count": null,
      "outputs": []
    },
    {
      "cell_type": "code",
      "source": [
        "import scipy\n",
        "from scipy import stats\n",
        "result = stats.describe(df_airfoil)\n"
      ],
      "metadata": {
        "id": "ZqyivcmjbThT"
      },
      "execution_count": null,
      "outputs": []
    },
    {
      "cell_type": "code",
      "source": [
        "#question 2.3\n",
        "\n",
        "#1\n",
        "print(\"mean of the columns: \", result.mean)\n",
        "#2\n",
        "print(\"variance of the columns: \", result.variance)\n",
        "#4\n",
        "print(\"kurtosis of the columns: \", result.kurtosis)\n",
        "#5\n",
        "print(\"skewness of the columns: \", result.skewness)"
      ],
      "metadata": {
        "id": "Gs8KwMNpblvV"
      },
      "execution_count": null,
      "outputs": []
    },
    {
      "cell_type": "code",
      "source": [
        "#3 & 6\n",
        " \n",
        "for i in range(5):\n",
        "  print(\"median of column \", i, \" is\", np.median(df_airfoil[i]))\n",
        "  print(\"range of column \", i, \" is: \", min(df_airfoil[i]), '-', max(df_airfoil[i]))"
      ],
      "metadata": {
        "id": "4XZ7taDyc8aA"
      },
      "execution_count": null,
      "outputs": []
    },
    {
      "cell_type": "code",
      "source": [
        ""
      ],
      "metadata": {
        "id": "GNTlD_WndZoO"
      },
      "execution_count": null,
      "outputs": []
    }
  ]
}